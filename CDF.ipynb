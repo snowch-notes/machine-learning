{
 "cells": [
  {
   "cell_type": "markdown",
   "metadata": {},
   "source": [
    "https://www.statsmodels.org/dev/generated/statsmodels.distributions.empirical_distribution.ECDF.html"
   ]
  },
  {
   "cell_type": "code",
   "execution_count": 38,
   "metadata": {},
   "outputs": [],
   "source": [
    "import statsmodels.api as sm\n",
    "import matplotlib.pyplot as plt"
   ]
  },
  {
   "cell_type": "code",
   "execution_count": 35,
   "metadata": {},
   "outputs": [],
   "source": [
    "df = [ 1, 2, 2, 3, 4, 5, 6]"
   ]
  },
  {
   "cell_type": "code",
   "execution_count": 46,
   "metadata": {},
   "outputs": [
    {
     "name": "stdout",
     "output_type": "stream",
     "text": [
      "<statsmodels.distributions.empirical_distribution.ECDF object at 0x1c1fcfc978>\n"
     ]
    }
   ],
   "source": [
    "ecdf = sm.distributions.ECDF(df)\n",
    "print(ecdf)"
   ]
  },
  {
   "cell_type": "code",
   "execution_count": 47,
   "metadata": {},
   "outputs": [],
   "source": [
    "x = np.linspace(min(df), max(df))"
   ]
  },
  {
   "cell_type": "code",
   "execution_count": 48,
   "metadata": {},
   "outputs": [],
   "source": [
    "y = ecdf(x)"
   ]
  },
  {
   "cell_type": "code",
   "execution_count": 44,
   "metadata": {},
   "outputs": [
    {
     "data": {
      "image/png": "[encoded data removed]",
      "text/plain": [
       "<Figure size 432x288 with 1 Axes>"
      ]
     },
     "metadata": {},
     "output_type": "display_data"
    }
   ],
   "source": [
    "plt.step(x, y)\n",
    "plt.show()"
   ]
  },
  {
   "cell_type": "code",
   "execution_count": 49,
   "metadata": {},
   "outputs": [
    {
     "data": {
      "text/plain": [
       "array([1.        , 1.10204082, 1.20408163, 1.30612245, 1.40816327,\n",
       "       1.51020408, 1.6122449 , 1.71428571, 1.81632653, 1.91836735,\n",
       "       2.02040816, 2.12244898, 2.2244898 , 2.32653061, 2.42857143,\n",
       "       2.53061224, 2.63265306, 2.73469388, 2.83673469, 2.93877551,\n",
       "       3.04081633, 3.14285714, 3.24489796, 3.34693878, 3.44897959,\n",
       "       3.55102041, 3.65306122, 3.75510204, 3.85714286, 3.95918367,\n",
       "       4.06122449, 4.16326531, 4.26530612, 4.36734694, 4.46938776,\n",
       "       4.57142857, 4.67346939, 4.7755102 , 4.87755102, 4.97959184,\n",
       "       5.08163265, 5.18367347, 5.28571429, 5.3877551 , 5.48979592,\n",
       "       5.59183673, 5.69387755, 5.79591837, 5.89795918, 6.        ])"
      ]
     },
     "execution_count": 49,
     "metadata": {},
     "output_type": "execute_result"
    }
   ],
   "source": [
    "x"
   ]
  },
  {
   "cell_type": "code",
   "execution_count": 50,
   "metadata": {},
   "outputs": [
    {
     "data": {
      "text/plain": [
       "array([0.14285714, 0.14285714, 0.14285714, 0.14285714, 0.14285714,\n",
       "       0.14285714, 0.14285714, 0.14285714, 0.14285714, 0.14285714,\n",
       "       0.42857143, 0.42857143, 0.42857143, 0.42857143, 0.42857143,\n",
       "       0.42857143, 0.42857143, 0.42857143, 0.42857143, 0.42857143,\n",
       "       0.57142857, 0.57142857, 0.57142857, 0.57142857, 0.57142857,\n",
       "       0.57142857, 0.57142857, 0.57142857, 0.57142857, 0.57142857,\n",
       "       0.71428571, 0.71428571, 0.71428571, 0.71428571, 0.71428571,\n",
       "       0.71428571, 0.71428571, 0.71428571, 0.71428571, 0.71428571,\n",
       "       0.85714286, 0.85714286, 0.85714286, 0.85714286, 0.85714286,\n",
       "       0.85714286, 0.85714286, 0.85714286, 0.85714286, 1.        ])"
      ]
     },
     "execution_count": 50,
     "metadata": {},
     "output_type": "execute_result"
    }
   ],
   "source": [
    "y"
   ]
  },
  {
   "cell_type": "code",
   "execution_count": null,
   "metadata": {},
   "outputs": [],
   "source": []
  }
 ],
 "metadata": {
  "kernelspec": {
   "display_name": "Python 3",
   "language": "python",
   "name": "python3"
  },
  "language_info": {
   "codemirror_mode": {
    "name": "ipython",
    "version": 3
   },
   "file_extension": ".py",
   "mimetype": "text/x-python",
   "name": "python",
   "nbconvert_exporter": "python",
   "pygments_lexer": "ipython3",
   "version": "3.6.5"
  }
 },
 "nbformat": 4,
 "nbformat_minor": 2
}
